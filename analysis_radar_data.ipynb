{
 "cells": [
  {
   "cell_type": "markdown",
   "id": "c84eea98",
   "metadata": {},
   "source": [
    "<h3>\n",
    "Khai báo các thư viện cần thiết\n",
    "</h3>"
   ]
  },
  {
   "cell_type": "code",
   "execution_count": 1,
   "id": "1b7751c5",
   "metadata": {},
   "outputs": [],
   "source": [
    "import warnings\n",
    "warnings.filterwarnings('ignore')\n",
    "\n",
    "import numpy as np\n",
    "import pandas as pd\n",
    "import matplotlib.pyplot as plt\n",
    "%matplotlib inline\n",
    "\n",
    "import seaborn as sns\n",
    "from private_module import visualize_orbit"
   ]
  },
  {
   "cell_type": "markdown",
   "id": "e32ac2f3",
   "metadata": {},
   "source": [
    "Đọc dữ liệu từ file \"measData.csv\""
   ]
  },
  {
   "cell_type": "code",
   "execution_count": 2,
   "id": "0bc61465",
   "metadata": {},
   "outputs": [
    {
     "name": "stdout",
     "output_type": "stream",
     "text": [
      "Các trường thuộc tính:\n",
      "Index(['timeSeries', 'Azimuth (rad)', 'Range (m)'], dtype='object')\n",
      "\n",
      "Năm dòng đầu tiên của bộ dữ liệu:\n",
      "   timeSeries  Azimuth (rad)    Range (m)\n",
      "0           0      -2.619192  200076.6746\n",
      "1          10      -2.622475  198853.7752\n",
      "2          20      -2.622916  197974.2480\n",
      "3          30      -2.633978  196907.8388\n",
      "4          40      -2.622791  195972.3070\n"
     ]
    }
   ],
   "source": [
    "df = pd.read_csv(\"data/measData.csv\")\n",
    "\n",
    "print(\"Các trường thuộc tính:\")\n",
    "print(df.columns)\n",
    "\n",
    "print()\n",
    "print(\"Năm dòng đầu tiên của bộ dữ liệu:\")\n",
    "print(df.head())"
   ]
  },
  {
   "cell_type": "markdown",
   "id": "2d26f6be",
   "metadata": {},
   "source": [
    "<h4>\n",
    "    Nội dung của bộ dữ liệu: \n",
    "</h4>\n",
    "\n",
    "Bộ dữ liệu “measData.csv” chứa thông tin quỹ đạo của một mục tiêu phát hiện bởi Radar với các giá trị trong các thuộc tính có ý nghĩa như sau:\n",
    "+ Cột \"Time Series\": Cho biết thời điểm của mục tiêu tại vị trí đấy (giây - gốc thời gian là 0s), cột dữ liệu này đơn điệu tăng, tỉ lệ thuận gấp 10 với chỉ số của từng hàng dữ liệu\n",
    "+ Cột “Azimuth”: giá trị phương vị (góc hình học, gốc tại 3h, tăng ngược chiều kim đồng hồ). Đơn vị: radian\n",
    "+ Cột “Range”: giá trị cự ly (khoảng cách đến tâm đài Radar). Đơn vị: mét"
   ]
  },
  {
   "cell_type": "markdown",
   "id": "fb8561eb",
   "metadata": {},
   "source": [
    "Nội dung của 3 cột thuộc tính được minh hoạ trong ảnh dưới đây: \n",
    "    \n",
    "<center>\n",
    "      <img src=\"./img_for_notebook/minhhoabaitoan.png\" alt=\"Ảnh minh hoạ 3 thuộc tính\">\n",
    "</center>"
   ]
  },
  {
   "cell_type": "markdown",
   "id": "4caee695",
   "metadata": {},
   "source": [
    "<h3>\n",
    "    Thực hiện thống kê mô tả để hiểu bộ dữ liệu\n",
    "</h3>"
   ]
  },
  {
   "cell_type": "markdown",
   "id": "cfbde2fd",
   "metadata": {},
   "source": [
    "Kiểm tra sự tồn tại của giá trị null trong bộ dữ liệu"
   ]
  },
  {
   "cell_type": "code",
   "execution_count": 3,
   "id": "cb4188d7",
   "metadata": {},
   "outputs": [
    {
     "name": "stdout",
     "output_type": "stream",
     "text": [
      "<class 'pandas.core.frame.DataFrame'>\n",
      "RangeIndex: 500 entries, 0 to 499\n",
      "Data columns (total 3 columns):\n",
      " #   Column         Non-Null Count  Dtype  \n",
      "---  ------         --------------  -----  \n",
      " 0   timeSeries     500 non-null    int64  \n",
      " 1   Azimuth (rad)  500 non-null    float64\n",
      " 2   Range (m)      500 non-null    float64\n",
      "dtypes: float64(2), int64(1)\n",
      "memory usage: 11.8 KB\n"
     ]
    }
   ],
   "source": [
    "df.info()"
   ]
  },
  {
   "cell_type": "markdown",
   "id": "3658bea0",
   "metadata": {},
   "source": [
    "--> Không có sự tồn tại giá trị null trong các cột dữ liệu"
   ]
  },
  {
   "cell_type": "markdown",
   "id": "ac97a7fa",
   "metadata": {},
   "source": [
    "Các tham số đặc trưng của các thuộc tính"
   ]
  },
  {
   "cell_type": "code",
   "execution_count": 4,
   "id": "fb2dc425",
   "metadata": {},
   "outputs": [
    {
     "data": {
      "text/html": [
       "<div>\n",
       "<style scoped>\n",
       "    .dataframe tbody tr th:only-of-type {\n",
       "        vertical-align: middle;\n",
       "    }\n",
       "\n",
       "    .dataframe tbody tr th {\n",
       "        vertical-align: top;\n",
       "    }\n",
       "\n",
       "    .dataframe thead th {\n",
       "        text-align: right;\n",
       "    }\n",
       "</style>\n",
       "<table border=\"1\" class=\"dataframe\">\n",
       "  <thead>\n",
       "    <tr style=\"text-align: right;\">\n",
       "      <th></th>\n",
       "      <th>timeSeries</th>\n",
       "      <th>Azimuth (rad)</th>\n",
       "      <th>Range (m)</th>\n",
       "    </tr>\n",
       "  </thead>\n",
       "  <tbody>\n",
       "    <tr>\n",
       "      <th>count</th>\n",
       "      <td>500.000000</td>\n",
       "      <td>500.000000</td>\n",
       "      <td>500.000000</td>\n",
       "    </tr>\n",
       "    <tr>\n",
       "      <th>mean</th>\n",
       "      <td>2495.000000</td>\n",
       "      <td>0.338989</td>\n",
       "      <td>130133.787614</td>\n",
       "    </tr>\n",
       "    <tr>\n",
       "      <th>std</th>\n",
       "      <td>1444.818328</td>\n",
       "      <td>1.966283</td>\n",
       "      <td>49302.402205</td>\n",
       "    </tr>\n",
       "    <tr>\n",
       "      <th>min</th>\n",
       "      <td>0.000000</td>\n",
       "      <td>-3.135104</td>\n",
       "      <td>53291.338400</td>\n",
       "    </tr>\n",
       "    <tr>\n",
       "      <th>25%</th>\n",
       "      <td>1247.500000</td>\n",
       "      <td>-2.633359</td>\n",
       "      <td>93822.983782</td>\n",
       "    </tr>\n",
       "    <tr>\n",
       "      <th>50%</th>\n",
       "      <td>2495.000000</td>\n",
       "      <td>1.190902</td>\n",
       "      <td>127094.953800</td>\n",
       "    </tr>\n",
       "    <tr>\n",
       "      <th>75%</th>\n",
       "      <td>3742.500000</td>\n",
       "      <td>1.387258</td>\n",
       "      <td>159423.774875</td>\n",
       "    </tr>\n",
       "    <tr>\n",
       "      <th>max</th>\n",
       "      <td>4990.000000</td>\n",
       "      <td>3.146498</td>\n",
       "      <td>252131.570500</td>\n",
       "    </tr>\n",
       "  </tbody>\n",
       "</table>\n",
       "</div>"
      ],
      "text/plain": [
       "        timeSeries  Azimuth (rad)      Range (m)\n",
       "count   500.000000     500.000000     500.000000\n",
       "mean   2495.000000       0.338989  130133.787614\n",
       "std    1444.818328       1.966283   49302.402205\n",
       "min       0.000000      -3.135104   53291.338400\n",
       "25%    1247.500000      -2.633359   93822.983782\n",
       "50%    2495.000000       1.190902  127094.953800\n",
       "75%    3742.500000       1.387258  159423.774875\n",
       "max    4990.000000       3.146498  252131.570500"
      ]
     },
     "execution_count": 4,
     "metadata": {},
     "output_type": "execute_result"
    }
   ],
   "source": [
    "df.describe()"
   ]
  },
  {
   "cell_type": "markdown",
   "id": "8b7f6638",
   "metadata": {},
   "source": [
    " --> Trong thuộc tính về góc phương vị (\"Azimuth (rad)\"), các số đo về góc nằm chủ yếu trong khoảng từ $(-\\pi, \\pi)$. Nhận thấy giá trị max nằm ngoài khoảng này (3.136498 > $\\pi$), nên ta sẽ đếm xem trong khoảng này có bao nhiêu hàng có góc phương vị lớn hơn $\\pi$"
   ]
  },
  {
   "cell_type": "code",
   "execution_count": 5,
   "id": "3c6f6833",
   "metadata": {},
   "outputs": [
    {
     "name": "stdout",
     "output_type": "stream",
     "text": [
      "Số hàng có góc phương vị lớn hơn PI: 1\n"
     ]
    }
   ],
   "source": [
    "print(f\"Số hàng có góc phương vị lớn hơn PI: {np.sum(df['Azimuth (rad)'] > np.pi)}\")\n"
   ]
  },
  {
   "cell_type": "markdown",
   "id": "2a1f440f",
   "metadata": {},
   "source": [
    "--> Đây chính là hàng có giá trị góc phương vị bằng với giá trị lớn nhất của góc phương vị trong bộ dữ liệu"
   ]
  },
  {
   "cell_type": "code",
   "execution_count": 6,
   "id": "95d6cfe5",
   "metadata": {},
   "outputs": [
    {
     "name": "stdout",
     "output_type": "stream",
     "text": [
      "     timeSeries  Azimuth (rad)    Range (m)\n",
      "130        1300       3.146498  65740.29193\n"
     ]
    }
   ],
   "source": [
    "print(df[df['Azimuth (rad)'] == np.max(df['Azimuth (rad)'])])"
   ]
  },
  {
   "cell_type": "markdown",
   "id": "a05948e4",
   "metadata": {},
   "source": [
    "<br>\n",
    "Bộ dữ liệu của chúng ta là bộ dữ liệu thời gian thực, và thời gian (timeSeries) tỷ thuận gấp 10 với chỉ số của hàng, nên ta sẽ xem xét xem giá trị ngoại lệ này có phải là do ghi sai không. Nếu không, ta sẽ đổi chỉ số radian này về dấu âm (Để các giá trị dữ liệu được đồng nhất trong khoảng từ $(-\\pi, \\pi)$)"
   ]
  },
  {
   "cell_type": "code",
   "execution_count": 7,
   "id": "5077f0d3",
   "metadata": {},
   "outputs": [
    {
     "data": {
      "text/html": [
       "<div>\n",
       "<style scoped>\n",
       "    .dataframe tbody tr th:only-of-type {\n",
       "        vertical-align: middle;\n",
       "    }\n",
       "\n",
       "    .dataframe tbody tr th {\n",
       "        vertical-align: top;\n",
       "    }\n",
       "\n",
       "    .dataframe thead th {\n",
       "        text-align: right;\n",
       "    }\n",
       "</style>\n",
       "<table border=\"1\" class=\"dataframe\">\n",
       "  <thead>\n",
       "    <tr style=\"text-align: right;\">\n",
       "      <th></th>\n",
       "      <th>timeSeries</th>\n",
       "      <th>Azimuth (rad)</th>\n",
       "      <th>Range (m)</th>\n",
       "    </tr>\n",
       "  </thead>\n",
       "  <tbody>\n",
       "    <tr>\n",
       "      <th>125</th>\n",
       "      <td>1250</td>\n",
       "      <td>-3.096317</td>\n",
       "      <td>70581.31492</td>\n",
       "    </tr>\n",
       "    <tr>\n",
       "      <th>126</th>\n",
       "      <td>1260</td>\n",
       "      <td>-3.107993</td>\n",
       "      <td>69551.21099</td>\n",
       "    </tr>\n",
       "    <tr>\n",
       "      <th>127</th>\n",
       "      <td>1270</td>\n",
       "      <td>-3.109789</td>\n",
       "      <td>68540.76587</td>\n",
       "    </tr>\n",
       "    <tr>\n",
       "      <th>128</th>\n",
       "      <td>1280</td>\n",
       "      <td>-3.117666</td>\n",
       "      <td>67722.09649</td>\n",
       "    </tr>\n",
       "    <tr>\n",
       "      <th>129</th>\n",
       "      <td>1290</td>\n",
       "      <td>-3.135104</td>\n",
       "      <td>66884.87876</td>\n",
       "    </tr>\n",
       "    <tr>\n",
       "      <th>130</th>\n",
       "      <td>1300</td>\n",
       "      <td>3.146498</td>\n",
       "      <td>65740.29193</td>\n",
       "    </tr>\n",
       "    <tr>\n",
       "      <th>131</th>\n",
       "      <td>1310</td>\n",
       "      <td>3.119955</td>\n",
       "      <td>64773.10684</td>\n",
       "    </tr>\n",
       "    <tr>\n",
       "      <th>132</th>\n",
       "      <td>1320</td>\n",
       "      <td>3.101033</td>\n",
       "      <td>63817.88970</td>\n",
       "    </tr>\n",
       "    <tr>\n",
       "      <th>133</th>\n",
       "      <td>1330</td>\n",
       "      <td>3.078324</td>\n",
       "      <td>62992.55429</td>\n",
       "    </tr>\n",
       "    <tr>\n",
       "      <th>134</th>\n",
       "      <td>1340</td>\n",
       "      <td>3.064222</td>\n",
       "      <td>62391.32443</td>\n",
       "    </tr>\n",
       "  </tbody>\n",
       "</table>\n",
       "</div>"
      ],
      "text/plain": [
       "     timeSeries  Azimuth (rad)    Range (m)\n",
       "125        1250      -3.096317  70581.31492\n",
       "126        1260      -3.107993  69551.21099\n",
       "127        1270      -3.109789  68540.76587\n",
       "128        1280      -3.117666  67722.09649\n",
       "129        1290      -3.135104  66884.87876\n",
       "130        1300       3.146498  65740.29193\n",
       "131        1310       3.119955  64773.10684\n",
       "132        1320       3.101033  63817.88970\n",
       "133        1330       3.078324  62992.55429\n",
       "134        1340       3.064222  62391.32443"
      ]
     },
     "execution_count": 7,
     "metadata": {},
     "output_type": "execute_result"
    }
   ],
   "source": [
    "# Xem qua 10 hàng trong chỉ số từ 125 - 135 (hàng đang xem xét có chỉ số 130)\n",
    "\n",
    "df[125:135]"
   ]
  },
  {
   "cell_type": "markdown",
   "id": "4b30035e",
   "metadata": {},
   "source": [
    "Có thể thấy, đây là dữ liệu đúng, do thứ nhất, không có sự biến thiên lớn trong khoảng cách và góc của hàng 130 so với các hàng lân cận. Trong khoảng thời gian này (1250 - 1340) có sự chuyển đổi dấu của góc phương vị được giải thích là do vị trí mục tiêu đang di chuyển từ góc phần tư thứ (II) sang góc phần tư thứ (III) "
   ]
  },
  {
   "cell_type": "markdown",
   "id": "805af1f0",
   "metadata": {},
   "source": [
    "Nên ta sẽ đổi lại dữ liệu của góc phương vị này để các góc đều nằm trong khoảng $(-\\pi, \\pi)$"
   ]
  },
  {
   "cell_type": "code",
   "execution_count": 8,
   "id": "82290f57",
   "metadata": {},
   "outputs": [
    {
     "name": "stdout",
     "output_type": "stream",
     "text": [
      "Kết quả sau khi thay đổi:\n"
     ]
    },
    {
     "data": {
      "text/html": [
       "<div>\n",
       "<style scoped>\n",
       "    .dataframe tbody tr th:only-of-type {\n",
       "        vertical-align: middle;\n",
       "    }\n",
       "\n",
       "    .dataframe tbody tr th {\n",
       "        vertical-align: top;\n",
       "    }\n",
       "\n",
       "    .dataframe thead th {\n",
       "        text-align: right;\n",
       "    }\n",
       "</style>\n",
       "<table border=\"1\" class=\"dataframe\">\n",
       "  <thead>\n",
       "    <tr style=\"text-align: right;\">\n",
       "      <th></th>\n",
       "      <th>timeSeries</th>\n",
       "      <th>Azimuth (rad)</th>\n",
       "      <th>Range (m)</th>\n",
       "    </tr>\n",
       "  </thead>\n",
       "  <tbody>\n",
       "    <tr>\n",
       "      <th>125</th>\n",
       "      <td>1250</td>\n",
       "      <td>-3.096317</td>\n",
       "      <td>70581.31492</td>\n",
       "    </tr>\n",
       "    <tr>\n",
       "      <th>126</th>\n",
       "      <td>1260</td>\n",
       "      <td>-3.107993</td>\n",
       "      <td>69551.21099</td>\n",
       "    </tr>\n",
       "    <tr>\n",
       "      <th>127</th>\n",
       "      <td>1270</td>\n",
       "      <td>-3.109789</td>\n",
       "      <td>68540.76587</td>\n",
       "    </tr>\n",
       "    <tr>\n",
       "      <th>128</th>\n",
       "      <td>1280</td>\n",
       "      <td>-3.117666</td>\n",
       "      <td>67722.09649</td>\n",
       "    </tr>\n",
       "    <tr>\n",
       "      <th>129</th>\n",
       "      <td>1290</td>\n",
       "      <td>-3.135104</td>\n",
       "      <td>66884.87876</td>\n",
       "    </tr>\n",
       "    <tr>\n",
       "      <th>130</th>\n",
       "      <td>1300</td>\n",
       "      <td>-3.136687</td>\n",
       "      <td>65740.29193</td>\n",
       "    </tr>\n",
       "    <tr>\n",
       "      <th>131</th>\n",
       "      <td>1310</td>\n",
       "      <td>3.119955</td>\n",
       "      <td>64773.10684</td>\n",
       "    </tr>\n",
       "    <tr>\n",
       "      <th>132</th>\n",
       "      <td>1320</td>\n",
       "      <td>3.101033</td>\n",
       "      <td>63817.88970</td>\n",
       "    </tr>\n",
       "    <tr>\n",
       "      <th>133</th>\n",
       "      <td>1330</td>\n",
       "      <td>3.078324</td>\n",
       "      <td>62992.55429</td>\n",
       "    </tr>\n",
       "    <tr>\n",
       "      <th>134</th>\n",
       "      <td>1340</td>\n",
       "      <td>3.064222</td>\n",
       "      <td>62391.32443</td>\n",
       "    </tr>\n",
       "  </tbody>\n",
       "</table>\n",
       "</div>"
      ],
      "text/plain": [
       "     timeSeries  Azimuth (rad)    Range (m)\n",
       "125        1250      -3.096317  70581.31492\n",
       "126        1260      -3.107993  69551.21099\n",
       "127        1270      -3.109789  68540.76587\n",
       "128        1280      -3.117666  67722.09649\n",
       "129        1290      -3.135104  66884.87876\n",
       "130        1300      -3.136687  65740.29193\n",
       "131        1310       3.119955  64773.10684\n",
       "132        1320       3.101033  63817.88970\n",
       "133        1330       3.078324  62992.55429\n",
       "134        1340       3.064222  62391.32443"
      ]
     },
     "execution_count": 8,
     "metadata": {},
     "output_type": "execute_result"
    }
   ],
   "source": [
    "old_value = np.max(df['Azimuth (rad)'])\n",
    "new_value = old_value - 2 * np.pi\n",
    "\n",
    "df['Azimuth (rad)'] = df['Azimuth (rad)'].replace([old_value], new_value)\n",
    "\n",
    "print(\"Kết quả sau khi thay đổi:\")\n",
    "df[125:135]"
   ]
  },
  {
   "cell_type": "markdown",
   "id": "7feadff3",
   "metadata": {},
   "source": [
    "<h4>\n",
    "    Trực quan hoá quỹ đạo của mục tiêu\n",
    "</h4>"
   ]
  },
  {
   "cell_type": "markdown",
   "id": "cb70bfbb",
   "metadata": {},
   "source": [
    "Quỹ đạo của mục tiêu được thể hiện trên mặt phẳng 2D"
   ]
  },
  {
   "cell_type": "markdown",
   "id": "47fa0af8",
   "metadata": {},
   "source": [
    "Trước tiên, ta thêm vào dữ liệu các cột thuộc tính về các giá trị trục hoành (x-axis) và trục tung (y-axis) sau khi đã biết hai thông tin về góc phương vị (Azimuth) và khoảng cách (Range). Hai giá trị này này được tính bằng công thức sau:\n",
    "<center>\n",
    "    $x = \\cos(\\alpha) \\cdot d$\n",
    "    <br>\n",
    "    $y = \\sin(\\alpha) \\cdot d$\n",
    "    \n",
    "    \n",
    "</center>\n",
    "<p style=\"padding-left: 8cm;\">\n",
    "    Trong đó $\\alpha$: Góc phương vị; $d$: Khoảng cách (range)\n",
    "</p>"
   ]
  },
  {
   "cell_type": "markdown",
   "id": "c5974c71",
   "metadata": {},
   "source": [
    "Để thuận tiện cho việc trực quan, ta cũng sẽ giảm thuộc tính Range đi 1000 lần (về đơn vị km)"
   ]
  },
  {
   "cell_type": "code",
   "execution_count": 9,
   "id": "09a636bf",
   "metadata": {},
   "outputs": [
    {
     "data": {
      "text/html": [
       "<div>\n",
       "<style scoped>\n",
       "    .dataframe tbody tr th:only-of-type {\n",
       "        vertical-align: middle;\n",
       "    }\n",
       "\n",
       "    .dataframe tbody tr th {\n",
       "        vertical-align: top;\n",
       "    }\n",
       "\n",
       "    .dataframe thead th {\n",
       "        text-align: right;\n",
       "    }\n",
       "</style>\n",
       "<table border=\"1\" class=\"dataframe\">\n",
       "  <thead>\n",
       "    <tr style=\"text-align: right;\">\n",
       "      <th></th>\n",
       "      <th>timeSeries</th>\n",
       "      <th>Azimuth (rad)</th>\n",
       "      <th>Range (km)</th>\n",
       "      <th>x-axis</th>\n",
       "      <th>y-axis</th>\n",
       "    </tr>\n",
       "  </thead>\n",
       "  <tbody>\n",
       "    <tr>\n",
       "      <th>0</th>\n",
       "      <td>0</td>\n",
       "      <td>-2.619192</td>\n",
       "      <td>200.076675</td>\n",
       "      <td>-173.391253</td>\n",
       "      <td>-99.830602</td>\n",
       "    </tr>\n",
       "    <tr>\n",
       "      <th>1</th>\n",
       "      <td>10</td>\n",
       "      <td>-2.622475</td>\n",
       "      <td>198.853775</td>\n",
       "      <td>-172.656196</td>\n",
       "      <td>-98.654255</td>\n",
       "    </tr>\n",
       "    <tr>\n",
       "      <th>2</th>\n",
       "      <td>20</td>\n",
       "      <td>-2.622916</td>\n",
       "      <td>197.974248</td>\n",
       "      <td>-171.935899</td>\n",
       "      <td>-98.141987</td>\n",
       "    </tr>\n",
       "    <tr>\n",
       "      <th>3</th>\n",
       "      <td>30</td>\n",
       "      <td>-2.633978</td>\n",
       "      <td>196.907839</td>\n",
       "      <td>-172.079002</td>\n",
       "      <td>-95.715799</td>\n",
       "    </tr>\n",
       "    <tr>\n",
       "      <th>4</th>\n",
       "      <td>40</td>\n",
       "      <td>-2.622791</td>\n",
       "      <td>195.972307</td>\n",
       "      <td>-170.185084</td>\n",
       "      <td>-97.170893</td>\n",
       "    </tr>\n",
       "  </tbody>\n",
       "</table>\n",
       "</div>"
      ],
      "text/plain": [
       "   timeSeries  Azimuth (rad)  Range (km)      x-axis     y-axis\n",
       "0           0      -2.619192  200.076675 -173.391253 -99.830602\n",
       "1          10      -2.622475  198.853775 -172.656196 -98.654255\n",
       "2          20      -2.622916  197.974248 -171.935899 -98.141987\n",
       "3          30      -2.633978  196.907839 -172.079002 -95.715799\n",
       "4          40      -2.622791  195.972307 -170.185084 -97.170893"
      ]
     },
     "execution_count": 9,
     "metadata": {},
     "output_type": "execute_result"
    }
   ],
   "source": [
    "df['Range (m)'] = df['Range (m)'] / 1000\n",
    "\n",
    "df['x-axis'] = np.cos(df['Azimuth (rad)']) * df['Range (m)']\n",
    "df['y-axis'] = np.sin(df['Azimuth (rad)']) * df['Range (m)']\n",
    "\n",
    "# Đổi lại tên thuộc tính cho phù hợp\n",
    "df = df.rename(columns={'Range (m)': 'Range (km)'})\n",
    "\n",
    "df.head()"
   ]
  },
  {
   "cell_type": "markdown",
   "id": "ad2d7e70",
   "metadata": {},
   "source": [
    "Lưu lại dữ liệu trên"
   ]
  },
  {
   "cell_type": "code",
   "execution_count": 10,
   "id": "fdf8e8fe",
   "metadata": {},
   "outputs": [],
   "source": [
    "df.to_csv('data/measData_ver2.csv', index=False)"
   ]
  },
  {
   "cell_type": "markdown",
   "id": "e3b5c983",
   "metadata": {},
   "source": [
    "Trực quan hoá quỹ đạo của mục tiêu trên trục toạ độ Descartes:\n"
   ]
  },
  {
   "cell_type": "code",
   "execution_count": 11,
   "id": "9639700e",
   "metadata": {},
   "outputs": [
    {
     "data": {
      "image/png": "[encoded data removed]",
      "text/plain": [
       "<Figure size 1000x800 with 1 Axes>"
      ]
     },
     "metadata": {},
     "output_type": "display_data"
    }
   ],
   "source": [
    "visualize_orbit.plot_orbit(df)"
   ]
  },
  {
   "cell_type": "code",
   "execution_count": null,
   "id": "7c188b50",
   "metadata": {},
   "outputs": [],
   "source": []
  }
 ],
 "metadata": {
  "kernelspec": {
   "display_name": "Python 3 (ipykernel)",
   "language": "python",
   "name": "python3"
  },
  "language_info": {
   "codemirror_mode": {
    "name": "ipython",
    "version": 3
   },
   "file_extension": ".py",
   "mimetype": "text/x-python",
   "name": "python",
   "nbconvert_exporter": "python",
   "pygments_lexer": "ipython3",
   "version": "3.9.13"
  }
 },
 "nbformat": 4,
 "nbformat_minor": 5
}
